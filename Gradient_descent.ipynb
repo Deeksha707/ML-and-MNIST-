{
  "nbformat": 4,
  "nbformat_minor": 0,
  "metadata": {
    "colab": {
      "provenance": []
    },
    "kernelspec": {
      "name": "python3",
      "display_name": "Python 3"
    },
    "language_info": {
      "name": "python"
    }
  },
  "cells": [
    {
      "cell_type": "code",
      "source": [
        "pip install sympy"
      ],
      "metadata": {
        "colab": {
          "base_uri": "https://localhost:8080/"
        },
        "id": "CubKCLvgbblb",
        "outputId": "916626cd-bfb0-494e-ac24-6287b6760a5a"
      },
      "execution_count": null,
      "outputs": [
        {
          "output_type": "stream",
          "name": "stdout",
          "text": [
            "Looking in indexes: https://pypi.org/simple, https://us-python.pkg.dev/colab-wheels/public/simple/\n",
            "Requirement already satisfied: sympy in /usr/local/lib/python3.9/dist-packages (1.11.1)\n",
            "Requirement already satisfied: mpmath>=0.19 in /usr/local/lib/python3.9/dist-packages (from sympy) (1.3.0)\n"
          ]
        }
      ]
    },
    {
      "cell_type": "code",
      "source": [
        "import sympy as sym"
      ],
      "metadata": {
        "id": "KktUwXwebbNv"
      },
      "execution_count": null,
      "outputs": []
    },
    {
      "cell_type": "code",
      "execution_count": null,
      "metadata": {
        "id": "cefLvXdEI6xt"
      },
      "outputs": [],
      "source": [
        "import numpy as np"
      ]
    },
    {
      "cell_type": "code",
      "source": [
        "x_init = 5\n",
        "learning_rate = 0.1\n",
        "tolerance = 0.00001"
      ],
      "metadata": {
        "id": "aIBOPqABVSuu"
      },
      "execution_count": null,
      "outputs": []
    },
    {
      "cell_type": "code",
      "source": [
        "X = sym.symbols('X')\n",
        "Y = X**2\n",
        "exp = sym.diff(Y)\n",
        "x = []\n",
        "itr = []\n",
        "i = 0"
      ],
      "metadata": {
        "id": "F3WJFhCQc01I"
      },
      "execution_count": null,
      "outputs": []
    },
    {
      "cell_type": "code",
      "source": [
        "def grad_des(xo , l_r, tol):\n",
        "  global x\n",
        "  global itr\n",
        "  global i\n",
        "  x_upd0 = 100000\n",
        "  x_upd1 = xo\n",
        "  while abs(x_upd1 - x_upd0)>=tol:\n",
        "    x.append(x_upd1)\n",
        "    x_upd0 = x_upd1\n",
        "    x_upd1 = x_upd0 - (l_r)*(exp.subs(X,x_upd0))\n",
        "    i += 1\n",
        "    itr.append(i)\n",
        "  return x"
      ],
      "metadata": {
        "id": "FSk5JaWeWpfb"
      },
      "execution_count": null,
      "outputs": []
    },
    {
      "cell_type": "code",
      "source": [
        "r = grad_des(x_init, learning_rate, tolerance)"
      ],
      "metadata": {
        "id": "2WkPrXWXYubg"
      },
      "execution_count": null,
      "outputs": []
    },
    {
      "cell_type": "code",
      "source": [
        "r"
      ],
      "metadata": {
        "id": "PN4cJkgPjMbo",
        "colab": {
          "base_uri": "https://localhost:8080/"
        },
        "outputId": "f9979612-33ee-4426-8487-85855d6a85a0"
      },
      "execution_count": null,
      "outputs": [
        {
          "output_type": "execute_result",
          "data": {
            "text/plain": [
              "[5,\n",
              " 4.00000000000000,\n",
              " 3.20000000000000,\n",
              " 2.56000000000000,\n",
              " 2.04800000000000,\n",
              " 1.63840000000000,\n",
              " 1.31072000000000,\n",
              " 1.04857600000000,\n",
              " 0.838860800000000,\n",
              " 0.671088640000000,\n",
              " 0.536870912000000,\n",
              " 0.429496729600000,\n",
              " 0.343597383680000,\n",
              " 0.274877906944000,\n",
              " 0.219902325555200,\n",
              " 0.175921860444160,\n",
              " 0.140737488355328,\n",
              " 0.112589990684262,\n",
              " 0.0900719925474099,\n",
              " 0.0720575940379279,\n",
              " 0.0576460752303424,\n",
              " 0.0461168601842739,\n",
              " 0.0368934881474191,\n",
              " 0.0295147905179353,\n",
              " 0.0236118324143482,\n",
              " 0.0188894659314786,\n",
              " 0.0151115727451829,\n",
              " 0.0120892581961463,\n",
              " 0.00967140655691704,\n",
              " 0.00773712524553363,\n",
              " 0.00618970019642690,\n",
              " 0.00495176015714152,\n",
              " 0.00396140812571322,\n",
              " 0.00316912650057057,\n",
              " 0.00253530120045646,\n",
              " 0.00202824096036517,\n",
              " 0.00162259276829213,\n",
              " 0.00129807421463371,\n",
              " 0.00103845937170697,\n",
              " 0.000830767497365573,\n",
              " 0.000664613997892458,\n",
              " 0.000531691198313967,\n",
              " 0.000425352958651173,\n",
              " 0.000340282366920939,\n",
              " 0.000272225893536751,\n",
              " 0.000217780714829401,\n",
              " 0.000174224571863521,\n",
              " 0.000139379657490816,\n",
              " 0.000111503725992653,\n",
              " 8.92029807941225e-5,\n",
              " 7.13623846352980e-5,\n",
              " 5.70899077082384e-5,\n",
              " 4.56719261665907e-5]"
            ]
          },
          "metadata": {},
          "execution_count": 30
        }
      ]
    },
    {
      "cell_type": "code",
      "source": [
        "y = [i**2 for i in x]"
      ],
      "metadata": {
        "id": "7bDI35x3w1xi"
      },
      "execution_count": null,
      "outputs": []
    },
    {
      "cell_type": "code",
      "source": [
        "y"
      ],
      "metadata": {
        "colab": {
          "base_uri": "https://localhost:8080/"
        },
        "id": "INmO0hrmxamM",
        "outputId": "23a204b1-51ed-4121-f4a2-cb70cf716ca6"
      },
      "execution_count": null,
      "outputs": [
        {
          "output_type": "execute_result",
          "data": {
            "text/plain": [
              "[25,\n",
              " 16.0000000000000,\n",
              " 10.2400000000000,\n",
              " 6.55360000000000,\n",
              " 4.19430400000000,\n",
              " 2.68435456000000,\n",
              " 1.71798691840000,\n",
              " 1.09951162777600,\n",
              " 0.703687441776640,\n",
              " 0.450359962737050,\n",
              " 0.288230376151712,\n",
              " 0.184467440737096,\n",
              " 0.118059162071741,\n",
              " 0.0755578637259143,\n",
              " 0.0483570327845852,\n",
              " 0.0309485009821345,\n",
              " 0.0198070406285661,\n",
              " 0.0126765060022823,\n",
              " 0.00811296384146067,\n",
              " 0.00519229685853483,\n",
              " 0.00332306998946229,\n",
              " 0.00212676479325587,\n",
              " 0.00136112946768375,\n",
              " 0.000871122859317603,\n",
              " 0.000557518629963266,\n",
              " 0.000356811923176490,\n",
              " 0.000228359630832954,\n",
              " 0.000146150163733090,\n",
              " 9.35361047891778e-5,\n",
              " 5.98631070650738e-5,\n",
              " 3.83123885216472e-5,\n",
              " 2.45199286538542e-5,\n",
              " 1.56927543384667e-5,\n",
              " 1.00433627766187e-5,\n",
              " 6.42775217703597e-6,\n",
              " 4.11376139330302e-6,\n",
              " 2.63280729171393e-6,\n",
              " 1.68499666669692e-6,\n",
              " 1.07839786668603e-6,\n",
              " 6.90174634679057e-7,\n",
              " 4.41711766194596e-7,\n",
              " 2.82695530364542e-7,\n",
              " 1.80925139433307e-7,\n",
              " 1.15792089237316e-7,\n",
              " 7.41069371118824e-8,\n",
              " 4.74284397516047e-8,\n",
              " 3.03542014410270e-8,\n",
              " 1.94266889222573e-8,\n",
              " 1.24330809102447e-8,\n",
              " 7.95717178255659e-9,\n",
              " 5.09258994083622e-9,\n",
              " 3.25925756213518e-9,\n",
              " 2.08592483976651e-9]"
            ]
          },
          "metadata": {},
          "execution_count": 32
        }
      ]
    },
    {
      "cell_type": "code",
      "source": [
        "import matplotlib.pyplot as plt\n",
        "# Plot till the convergence point\n",
        "plt.plot(x,y,'black',marker='o',mfc='yellow')\n",
        "plt.xlabel('X Values')\n",
        "plt.ylabel('Y Values')"
      ],
      "metadata": {
        "colab": {
          "base_uri": "https://localhost:8080/",
          "height": 467
        },
        "id": "uNuZVa7wxdPj",
        "outputId": "4efeac7f-4b3f-44c2-c026-d8e930ed9c1f"
      },
      "execution_count": null,
      "outputs": [
        {
          "output_type": "execute_result",
          "data": {
            "text/plain": [
              "Text(0, 0.5, 'Y Values')"
            ]
          },
          "metadata": {},
          "execution_count": 33
        },
        {
          "output_type": "display_data",
          "data": {
            "text/plain": [
              "<Figure size 640x480 with 1 Axes>"
            ],
            "image/png": "[encoded data removed]"
          },
          "metadata": {}
        }
      ]
    },
    {
      "cell_type": "code",
      "source": [
        "print('No. of iterations =',i)"
      ],
      "metadata": {
        "id": "R_rnXnk6xnqJ",
        "colab": {
          "base_uri": "https://localhost:8080/"
        },
        "outputId": "68a05525-567e-427c-ae2d-d0dfc07170e9"
      },
      "execution_count": null,
      "outputs": [
        {
          "output_type": "stream",
          "name": "stdout",
          "text": [
            "No. of iterations = 53\n"
          ]
        }
      ]
    },
    {
      "cell_type": "code",
      "source": [
        "plt.plot(itr,y)\n",
        "plt.xlabel('No. of iterations')\n",
        "plt.ylabel('Y_value')"
      ],
      "metadata": {
        "colab": {
          "base_uri": "https://localhost:8080/",
          "height": 467
        },
        "id": "Y1kXAVkmLQ5E",
        "outputId": "4dbb7fa4-990d-43c1-a8a8-68b35d96626b"
      },
      "execution_count": null,
      "outputs": [
        {
          "output_type": "execute_result",
          "data": {
            "text/plain": [
              "Text(0, 0.5, 'Y_value')"
            ]
          },
          "metadata": {},
          "execution_count": 35
        },
        {
          "output_type": "display_data",
          "data": {
            "text/plain": [
              "<Figure size 640x480 with 1 Axes>"
            ],
            "image/png": "[encoded data removed]"
          },
          "metadata": {}
        }
      ]
    }
  ]
}